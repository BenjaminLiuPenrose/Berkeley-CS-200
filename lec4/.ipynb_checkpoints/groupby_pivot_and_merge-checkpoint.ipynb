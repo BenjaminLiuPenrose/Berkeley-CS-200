{
 "cells": [
  {
   "cell_type": "markdown",
   "metadata": {},
   "source": [
    "# Advanced Pandas Operations\n",
    "\n",
    "In this notebook we review some of the key advanced Pandas operations.  \n",
    "\n",
    "* **groupby:** grouping collections of records that share the same value for one set of fields and then computing aggregate statistic over the remaining fields\n",
    "\n",
    "* **pivot:** similar to groupby except the results are presented slightly differently ... \n",
    "\n",
    "* **merge:** *join* data from a pair of dataframes into a single dataframe. "
   ]
  },
  {
   "cell_type": "markdown",
   "metadata": {},
   "source": [
    "To illustrate these operations we will use some toy data about peoples favorite colors and numbers.  To protect peoples identities their favorite numbers and colors are fictional."
   ]
  },
  {
   "cell_type": "code",
   "execution_count": 1,
   "metadata": {
    "ExecuteTime": {
     "end_time": "2018-01-29T01:36:32.619859Z",
     "start_time": "2018-01-29T01:36:32.131368Z"
    }
   },
   "outputs": [
    {
     "data": {
      "text/html": [
       "<div>\n",
       "<style scoped>\n",
       "    .dataframe tbody tr th:only-of-type {\n",
       "        vertical-align: middle;\n",
       "    }\n",
       "\n",
       "    .dataframe tbody tr th {\n",
       "        vertical-align: top;\n",
       "    }\n",
       "\n",
       "    .dataframe thead th {\n",
       "        text-align: right;\n",
       "    }\n",
       "</style>\n",
       "<table border=\"1\" class=\"dataframe\">\n",
       "  <thead>\n",
       "    <tr style=\"text-align: right;\">\n",
       "      <th></th>\n",
       "      <th>Name</th>\n",
       "      <th>Color</th>\n",
       "      <th>Number</th>\n",
       "      <th>Sex</th>\n",
       "    </tr>\n",
       "  </thead>\n",
       "  <tbody>\n",
       "    <tr>\n",
       "      <th>0</th>\n",
       "      <td>Joey</td>\n",
       "      <td>blue</td>\n",
       "      <td>42</td>\n",
       "      <td>M</td>\n",
       "    </tr>\n",
       "    <tr>\n",
       "      <th>1</th>\n",
       "      <td>Weiwei</td>\n",
       "      <td>blue</td>\n",
       "      <td>50</td>\n",
       "      <td>F</td>\n",
       "    </tr>\n",
       "    <tr>\n",
       "      <th>2</th>\n",
       "      <td>Joey</td>\n",
       "      <td>green</td>\n",
       "      <td>8</td>\n",
       "      <td>M</td>\n",
       "    </tr>\n",
       "    <tr>\n",
       "      <th>3</th>\n",
       "      <td>Karina</td>\n",
       "      <td>green</td>\n",
       "      <td>7</td>\n",
       "      <td>F</td>\n",
       "    </tr>\n",
       "    <tr>\n",
       "      <th>4</th>\n",
       "      <td>Fernando</td>\n",
       "      <td>pink</td>\n",
       "      <td>-9</td>\n",
       "      <td>M</td>\n",
       "    </tr>\n",
       "    <tr>\n",
       "      <th>5</th>\n",
       "      <td>Nhi</td>\n",
       "      <td>blue</td>\n",
       "      <td>3</td>\n",
       "      <td>F</td>\n",
       "    </tr>\n",
       "    <tr>\n",
       "      <th>6</th>\n",
       "      <td>Sam</td>\n",
       "      <td>pink</td>\n",
       "      <td>-42</td>\n",
       "      <td>M</td>\n",
       "    </tr>\n",
       "  </tbody>\n",
       "</table>\n",
       "</div>"
      ],
      "text/plain": [
       "       Name  Color  Number Sex\n",
       "0      Joey   blue      42   M\n",
       "1    Weiwei   blue      50   F\n",
       "2      Joey  green       8   M\n",
       "3    Karina  green       7   F\n",
       "4  Fernando   pink      -9   M\n",
       "5       Nhi   blue       3   F\n",
       "6       Sam   pink     -42   M"
      ]
     },
     "execution_count": 1,
     "metadata": {},
     "output_type": "execute_result"
    }
   ],
   "source": [
    "import pandas as pd\n",
    "\n",
    "people = pd.DataFrame(\n",
    "    [[\"Joey\",      \"blue\",    42,  \"M\"],\n",
    "     [\"Weiwei\",    \"blue\",    50,  \"F\"],\n",
    "     [\"Joey\",      \"green\",    8,  \"M\"],\n",
    "     [\"Karina\",    \"green\",    7,  \"F\"],\n",
    "     [\"Fernando\",  \"pink\",    -9,  \"M\"],\n",
    "     [\"Nhi\",       \"blue\",     3,  \"F\"],\n",
    "     [\"Sam\",       \"pink\",   -42,  \"M\"]], \n",
    "    columns = [\"Name\", \"Color\", \"Number\", \"Sex\"])\n",
    "people"
   ]
  },
  {
   "cell_type": "markdown",
   "metadata": {},
   "source": [
    "## Groupby\n",
    "\n",
    "The `groupby` operator groups rows in the table that are the same in one or more columns."
   ]
  },
  {
   "cell_type": "code",
   "execution_count": 3,
   "metadata": {
    "ExecuteTime": {
     "end_time": "2018-01-29T01:36:32.627717Z",
     "start_time": "2018-01-29T01:36:32.621909Z"
    }
   },
   "outputs": [
    {
     "data": {
      "text/plain": [
       "<pandas.core.groupby.groupby.DataFrameGroupBy object at 0x000001B97BB9F400>"
      ]
     },
     "execution_count": 3,
     "metadata": {},
     "output_type": "execute_result"
    }
   ],
   "source": [
    "grps = people.groupby(\"Color\")\n",
    "grps"
   ]
  },
  {
   "cell_type": "code",
   "execution_count": 5,
   "metadata": {
    "ExecuteTime": {
     "end_time": "2018-01-29T01:36:32.639609Z",
     "start_time": "2018-01-29T01:36:32.629739Z"
    }
   },
   "outputs": [
    {
     "data": {
      "text/plain": [
       "Color\n",
       "blue     3\n",
       "green    2\n",
       "pink     2\n",
       "dtype: int64"
      ]
     },
     "execution_count": 5,
     "metadata": {},
     "output_type": "execute_result"
    }
   ],
   "source": [
    "grps.size()"
   ]
  },
  {
   "cell_type": "code",
   "execution_count": 6,
   "metadata": {
    "ExecuteTime": {
     "end_time": "2018-01-29T01:36:32.680026Z",
     "start_time": "2018-01-29T01:36:32.641226Z"
    }
   },
   "outputs": [
    {
     "data": {
      "text/html": [
       "<div>\n",
       "<style scoped>\n",
       "    .dataframe tbody tr th:only-of-type {\n",
       "        vertical-align: middle;\n",
       "    }\n",
       "\n",
       "    .dataframe tbody tr th {\n",
       "        vertical-align: top;\n",
       "    }\n",
       "\n",
       "    .dataframe thead th {\n",
       "        text-align: right;\n",
       "    }\n",
       "</style>\n",
       "<table border=\"1\" class=\"dataframe\">\n",
       "  <thead>\n",
       "    <tr style=\"text-align: right;\">\n",
       "      <th></th>\n",
       "      <th>Name</th>\n",
       "      <th>Color</th>\n",
       "      <th>Number</th>\n",
       "      <th>Sex</th>\n",
       "    </tr>\n",
       "  </thead>\n",
       "  <tbody>\n",
       "    <tr>\n",
       "      <th>0</th>\n",
       "      <td>Joey</td>\n",
       "      <td>blue</td>\n",
       "      <td>42</td>\n",
       "      <td>M</td>\n",
       "    </tr>\n",
       "    <tr>\n",
       "      <th>1</th>\n",
       "      <td>Weiwei</td>\n",
       "      <td>blue</td>\n",
       "      <td>50</td>\n",
       "      <td>F</td>\n",
       "    </tr>\n",
       "    <tr>\n",
       "      <th>5</th>\n",
       "      <td>Nhi</td>\n",
       "      <td>blue</td>\n",
       "      <td>3</td>\n",
       "      <td>F</td>\n",
       "    </tr>\n",
       "  </tbody>\n",
       "</table>\n",
       "</div>"
      ],
      "text/plain": [
       "     Name Color  Number Sex\n",
       "0    Joey  blue      42   M\n",
       "1  Weiwei  blue      50   F\n",
       "5     Nhi  blue       3   F"
      ]
     },
     "metadata": {},
     "output_type": "display_data"
    },
    {
     "data": {
      "text/html": [
       "<div>\n",
       "<style scoped>\n",
       "    .dataframe tbody tr th:only-of-type {\n",
       "        vertical-align: middle;\n",
       "    }\n",
       "\n",
       "    .dataframe tbody tr th {\n",
       "        vertical-align: top;\n",
       "    }\n",
       "\n",
       "    .dataframe thead th {\n",
       "        text-align: right;\n",
       "    }\n",
       "</style>\n",
       "<table border=\"1\" class=\"dataframe\">\n",
       "  <thead>\n",
       "    <tr style=\"text-align: right;\">\n",
       "      <th></th>\n",
       "      <th>Name</th>\n",
       "      <th>Color</th>\n",
       "      <th>Number</th>\n",
       "      <th>Sex</th>\n",
       "    </tr>\n",
       "  </thead>\n",
       "  <tbody>\n",
       "    <tr>\n",
       "      <th>0</th>\n",
       "      <td>Joey</td>\n",
       "      <td>blue</td>\n",
       "      <td>42</td>\n",
       "      <td>M</td>\n",
       "    </tr>\n",
       "    <tr>\n",
       "      <th>1</th>\n",
       "      <td>Weiwei</td>\n",
       "      <td>blue</td>\n",
       "      <td>50</td>\n",
       "      <td>F</td>\n",
       "    </tr>\n",
       "    <tr>\n",
       "      <th>5</th>\n",
       "      <td>Nhi</td>\n",
       "      <td>blue</td>\n",
       "      <td>3</td>\n",
       "      <td>F</td>\n",
       "    </tr>\n",
       "  </tbody>\n",
       "</table>\n",
       "</div>"
      ],
      "text/plain": [
       "     Name Color  Number Sex\n",
       "0    Joey  blue      42   M\n",
       "1  Weiwei  blue      50   F\n",
       "5     Nhi  blue       3   F"
      ]
     },
     "metadata": {},
     "output_type": "display_data"
    },
    {
     "data": {
      "text/html": [
       "<div>\n",
       "<style scoped>\n",
       "    .dataframe tbody tr th:only-of-type {\n",
       "        vertical-align: middle;\n",
       "    }\n",
       "\n",
       "    .dataframe tbody tr th {\n",
       "        vertical-align: top;\n",
       "    }\n",
       "\n",
       "    .dataframe thead th {\n",
       "        text-align: right;\n",
       "    }\n",
       "</style>\n",
       "<table border=\"1\" class=\"dataframe\">\n",
       "  <thead>\n",
       "    <tr style=\"text-align: right;\">\n",
       "      <th></th>\n",
       "      <th>Name</th>\n",
       "      <th>Color</th>\n",
       "      <th>Number</th>\n",
       "      <th>Sex</th>\n",
       "    </tr>\n",
       "  </thead>\n",
       "  <tbody>\n",
       "    <tr>\n",
       "      <th>2</th>\n",
       "      <td>Joey</td>\n",
       "      <td>green</td>\n",
       "      <td>8</td>\n",
       "      <td>M</td>\n",
       "    </tr>\n",
       "    <tr>\n",
       "      <th>3</th>\n",
       "      <td>Karina</td>\n",
       "      <td>green</td>\n",
       "      <td>7</td>\n",
       "      <td>F</td>\n",
       "    </tr>\n",
       "  </tbody>\n",
       "</table>\n",
       "</div>"
      ],
      "text/plain": [
       "     Name  Color  Number Sex\n",
       "2    Joey  green       8   M\n",
       "3  Karina  green       7   F"
      ]
     },
     "metadata": {},
     "output_type": "display_data"
    },
    {
     "data": {
      "text/html": [
       "<div>\n",
       "<style scoped>\n",
       "    .dataframe tbody tr th:only-of-type {\n",
       "        vertical-align: middle;\n",
       "    }\n",
       "\n",
       "    .dataframe tbody tr th {\n",
       "        vertical-align: top;\n",
       "    }\n",
       "\n",
       "    .dataframe thead th {\n",
       "        text-align: right;\n",
       "    }\n",
       "</style>\n",
       "<table border=\"1\" class=\"dataframe\">\n",
       "  <thead>\n",
       "    <tr style=\"text-align: right;\">\n",
       "      <th></th>\n",
       "      <th>Name</th>\n",
       "      <th>Color</th>\n",
       "      <th>Number</th>\n",
       "      <th>Sex</th>\n",
       "    </tr>\n",
       "  </thead>\n",
       "  <tbody>\n",
       "    <tr>\n",
       "      <th>4</th>\n",
       "      <td>Fernando</td>\n",
       "      <td>pink</td>\n",
       "      <td>-9</td>\n",
       "      <td>M</td>\n",
       "    </tr>\n",
       "    <tr>\n",
       "      <th>6</th>\n",
       "      <td>Sam</td>\n",
       "      <td>pink</td>\n",
       "      <td>-42</td>\n",
       "      <td>M</td>\n",
       "    </tr>\n",
       "  </tbody>\n",
       "</table>\n",
       "</div>"
      ],
      "text/plain": [
       "       Name Color  Number Sex\n",
       "4  Fernando  pink      -9   M\n",
       "6       Sam  pink     -42   M"
      ]
     },
     "metadata": {},
     "output_type": "display_data"
    },
    {
     "data": {
      "text/html": [
       "<div>\n",
       "<style scoped>\n",
       "    .dataframe tbody tr th:only-of-type {\n",
       "        vertical-align: middle;\n",
       "    }\n",
       "\n",
       "    .dataframe tbody tr th {\n",
       "        vertical-align: top;\n",
       "    }\n",
       "\n",
       "    .dataframe thead th {\n",
       "        text-align: right;\n",
       "    }\n",
       "</style>\n",
       "<table border=\"1\" class=\"dataframe\">\n",
       "  <thead>\n",
       "    <tr style=\"text-align: right;\">\n",
       "      <th></th>\n",
       "    </tr>\n",
       "  </thead>\n",
       "  <tbody>\n",
       "  </tbody>\n",
       "</table>\n",
       "</div>"
      ],
      "text/plain": [
       "Empty DataFrame\n",
       "Columns: []\n",
       "Index: []"
      ]
     },
     "execution_count": 6,
     "metadata": {},
     "output_type": "execute_result"
    }
   ],
   "source": [
    "grps.apply(lambda df: display(df))"
   ]
  },
  {
   "cell_type": "code",
   "execution_count": 7,
   "metadata": {
    "ExecuteTime": {
     "end_time": "2018-01-29T01:36:32.692891Z",
     "start_time": "2018-01-29T01:36:32.681550Z"
    }
   },
   "outputs": [
    {
     "data": {
      "text/html": [
       "<div>\n",
       "<style scoped>\n",
       "    .dataframe tbody tr th:only-of-type {\n",
       "        vertical-align: middle;\n",
       "    }\n",
       "\n",
       "    .dataframe tbody tr th {\n",
       "        vertical-align: top;\n",
       "    }\n",
       "\n",
       "    .dataframe thead th {\n",
       "        text-align: right;\n",
       "    }\n",
       "</style>\n",
       "<table border=\"1\" class=\"dataframe\">\n",
       "  <thead>\n",
       "    <tr style=\"text-align: right;\">\n",
       "      <th></th>\n",
       "      <th>Name</th>\n",
       "      <th>Color</th>\n",
       "      <th>Number</th>\n",
       "      <th>Sex</th>\n",
       "    </tr>\n",
       "  </thead>\n",
       "  <tbody>\n",
       "    <tr>\n",
       "      <th>0</th>\n",
       "      <td>Joey</td>\n",
       "      <td>blue</td>\n",
       "      <td>42</td>\n",
       "      <td>M</td>\n",
       "    </tr>\n",
       "    <tr>\n",
       "      <th>1</th>\n",
       "      <td>Weiwei</td>\n",
       "      <td>blue</td>\n",
       "      <td>50</td>\n",
       "      <td>F</td>\n",
       "    </tr>\n",
       "    <tr>\n",
       "      <th>5</th>\n",
       "      <td>Nhi</td>\n",
       "      <td>blue</td>\n",
       "      <td>3</td>\n",
       "      <td>F</td>\n",
       "    </tr>\n",
       "  </tbody>\n",
       "</table>\n",
       "</div>"
      ],
      "text/plain": [
       "     Name Color  Number Sex\n",
       "0    Joey  blue      42   M\n",
       "1  Weiwei  blue      50   F\n",
       "5     Nhi  blue       3   F"
      ]
     },
     "execution_count": 7,
     "metadata": {},
     "output_type": "execute_result"
    }
   ],
   "source": [
    "people.loc[grps.indices[\"blue\"],:]"
   ]
  },
  {
   "cell_type": "markdown",
   "metadata": {},
   "source": [
    "We will commonly combine `groupby` with column selection (e.g., `df.groupby(\"Region\")[\"Sales\"]`) and then finally adding some aggregate calculation on that column:"
   ]
  },
  {
   "cell_type": "code",
   "execution_count": 8,
   "metadata": {
    "ExecuteTime": {
     "end_time": "2018-01-29T01:36:32.705378Z",
     "start_time": "2018-01-29T01:36:32.694939Z"
    }
   },
   "outputs": [
    {
     "data": {
      "text/plain": [
       "Color\n",
       "blue     42.0\n",
       "green     7.5\n",
       "pink    -25.5\n",
       "Name: Number, dtype: float64"
      ]
     },
     "execution_count": 8,
     "metadata": {},
     "output_type": "execute_result"
    }
   ],
   "source": [
    "people.groupby(\"Color\")[\"Number\"].median()"
   ]
  },
  {
   "cell_type": "code",
   "execution_count": 9,
   "metadata": {
    "ExecuteTime": {
     "end_time": "2018-01-29T01:36:32.715711Z",
     "start_time": "2018-01-29T01:36:32.707892Z"
    }
   },
   "outputs": [
    {
     "data": {
      "text/plain": [
       "Color\n",
       "blue     31.666667\n",
       "green     7.500000\n",
       "pink    -25.500000\n",
       "Name: Number, dtype: float64"
      ]
     },
     "execution_count": 9,
     "metadata": {},
     "output_type": "execute_result"
    }
   ],
   "source": [
    "people.groupby(\"Color\")[\"Number\"].mean()"
   ]
  },
  {
   "cell_type": "code",
   "execution_count": 10,
   "metadata": {
    "ExecuteTime": {
     "end_time": "2018-01-29T01:36:32.728200Z",
     "start_time": "2018-01-29T01:36:32.718944Z"
    }
   },
   "outputs": [
    {
     "data": {
      "text/plain": [
       "Color\n",
       "blue     3\n",
       "green    2\n",
       "pink     2\n",
       "Name: Number, dtype: int64"
      ]
     },
     "execution_count": 10,
     "metadata": {},
     "output_type": "execute_result"
    }
   ],
   "source": [
    "people.groupby(\"Color\")[\"Number\"].count()"
   ]
  },
  {
   "cell_type": "markdown",
   "metadata": {},
   "source": [
    "Remember we can group by one **or more** columns"
   ]
  },
  {
   "cell_type": "code",
   "execution_count": 11,
   "metadata": {
    "ExecuteTime": {
     "end_time": "2018-01-29T01:36:32.742170Z",
     "start_time": "2018-01-29T01:36:32.732408Z"
    }
   },
   "outputs": [
    {
     "data": {
      "text/plain": [
       "Color  Sex\n",
       "blue   F      2\n",
       "       M      1\n",
       "green  F      1\n",
       "       M      1\n",
       "pink   M      2\n",
       "Name: Number, dtype: int64"
      ]
     },
     "execution_count": 11,
     "metadata": {},
     "output_type": "execute_result"
    }
   ],
   "source": [
    "people.groupby([\"Color\", \"Sex\"])['Number'].count()"
   ]
  },
  {
   "cell_type": "code",
   "execution_count": 12,
   "metadata": {
    "ExecuteTime": {
     "end_time": "2018-01-29T01:36:32.758209Z",
     "start_time": "2018-01-29T01:36:32.744596Z"
    }
   },
   "outputs": [
    {
     "data": {
      "text/html": [
       "<div>\n",
       "<style scoped>\n",
       "    .dataframe tbody tr th:only-of-type {\n",
       "        vertical-align: middle;\n",
       "    }\n",
       "\n",
       "    .dataframe tbody tr th {\n",
       "        vertical-align: top;\n",
       "    }\n",
       "\n",
       "    .dataframe thead th {\n",
       "        text-align: right;\n",
       "    }\n",
       "</style>\n",
       "<table border=\"1\" class=\"dataframe\">\n",
       "  <thead>\n",
       "    <tr style=\"text-align: right;\">\n",
       "      <th></th>\n",
       "      <th></th>\n",
       "      <th>Name</th>\n",
       "      <th>Number</th>\n",
       "    </tr>\n",
       "    <tr>\n",
       "      <th>Color</th>\n",
       "      <th>Sex</th>\n",
       "      <th></th>\n",
       "      <th></th>\n",
       "    </tr>\n",
       "  </thead>\n",
       "  <tbody>\n",
       "    <tr>\n",
       "      <th rowspan=\"2\" valign=\"top\">blue</th>\n",
       "      <th>F</th>\n",
       "      <td>2</td>\n",
       "      <td>2</td>\n",
       "    </tr>\n",
       "    <tr>\n",
       "      <th>M</th>\n",
       "      <td>1</td>\n",
       "      <td>1</td>\n",
       "    </tr>\n",
       "    <tr>\n",
       "      <th rowspan=\"2\" valign=\"top\">green</th>\n",
       "      <th>F</th>\n",
       "      <td>1</td>\n",
       "      <td>1</td>\n",
       "    </tr>\n",
       "    <tr>\n",
       "      <th>M</th>\n",
       "      <td>1</td>\n",
       "      <td>1</td>\n",
       "    </tr>\n",
       "    <tr>\n",
       "      <th>pink</th>\n",
       "      <th>M</th>\n",
       "      <td>2</td>\n",
       "      <td>2</td>\n",
       "    </tr>\n",
       "  </tbody>\n",
       "</table>\n",
       "</div>"
      ],
      "text/plain": [
       "           Name  Number\n",
       "Color Sex              \n",
       "blue  F       2       2\n",
       "      M       1       1\n",
       "green F       1       1\n",
       "      M       1       1\n",
       "pink  M       2       2"
      ]
     },
     "execution_count": 12,
     "metadata": {},
     "output_type": "execute_result"
    }
   ],
   "source": [
    "people.groupby([\"Color\", \"Sex\"])[['Name','Number']].count()"
   ]
  },
  {
   "cell_type": "code",
   "execution_count": 13,
   "metadata": {
    "ExecuteTime": {
     "end_time": "2018-01-29T01:36:32.777841Z",
     "start_time": "2018-01-29T01:36:32.760124Z"
    }
   },
   "outputs": [
    {
     "data": {
      "text/html": [
       "<div>\n",
       "<style scoped>\n",
       "    .dataframe tbody tr th:only-of-type {\n",
       "        vertical-align: middle;\n",
       "    }\n",
       "\n",
       "    .dataframe tbody tr th {\n",
       "        vertical-align: top;\n",
       "    }\n",
       "\n",
       "    .dataframe thead th {\n",
       "        text-align: right;\n",
       "    }\n",
       "</style>\n",
       "<table border=\"1\" class=\"dataframe\">\n",
       "  <thead>\n",
       "    <tr style=\"text-align: right;\">\n",
       "      <th></th>\n",
       "      <th></th>\n",
       "      <th>Name</th>\n",
       "      <th>Number</th>\n",
       "    </tr>\n",
       "    <tr>\n",
       "      <th>Color</th>\n",
       "      <th>Sex</th>\n",
       "      <th></th>\n",
       "      <th></th>\n",
       "    </tr>\n",
       "  </thead>\n",
       "  <tbody>\n",
       "    <tr>\n",
       "      <th rowspan=\"2\" valign=\"top\">blue</th>\n",
       "      <th>F</th>\n",
       "      <td>4.5</td>\n",
       "      <td>26.5</td>\n",
       "    </tr>\n",
       "    <tr>\n",
       "      <th>M</th>\n",
       "      <td>4.0</td>\n",
       "      <td>42.0</td>\n",
       "    </tr>\n",
       "    <tr>\n",
       "      <th rowspan=\"2\" valign=\"top\">green</th>\n",
       "      <th>F</th>\n",
       "      <td>6.0</td>\n",
       "      <td>7.0</td>\n",
       "    </tr>\n",
       "    <tr>\n",
       "      <th>M</th>\n",
       "      <td>4.0</td>\n",
       "      <td>8.0</td>\n",
       "    </tr>\n",
       "    <tr>\n",
       "      <th>pink</th>\n",
       "      <th>M</th>\n",
       "      <td>5.5</td>\n",
       "      <td>-25.5</td>\n",
       "    </tr>\n",
       "  </tbody>\n",
       "</table>\n",
       "</div>"
      ],
      "text/plain": [
       "           Name  Number\n",
       "Color Sex              \n",
       "blue  F     4.5    26.5\n",
       "      M     4.0    42.0\n",
       "green F     6.0     7.0\n",
       "      M     4.0     8.0\n",
       "pink  M     5.5   -25.5"
      ]
     },
     "execution_count": 13,
     "metadata": {},
     "output_type": "execute_result"
    }
   ],
   "source": [
    "import numpy as np\n",
    "\n",
    "def avg_str_len(series):\n",
    "    return series.str.len().mean()\n",
    "\n",
    "res = (\n",
    "    people\n",
    "        .groupby([\"Color\", \"Sex\"])\n",
    "        .aggregate({\"Name\": avg_str_len, \"Number\": np.mean})\n",
    ")\n",
    "\n",
    "res"
   ]
  },
  {
   "cell_type": "markdown",
   "metadata": {},
   "source": [
    "### Grouping and Indexes\n",
    "\n",
    "Notice that the `groupby` operation creates an index based on the grouping columns. "
   ]
  },
  {
   "cell_type": "code",
   "execution_count": 14,
   "metadata": {
    "ExecuteTime": {
     "end_time": "2018-01-29T01:36:32.796618Z",
     "start_time": "2018-01-29T01:36:32.779959Z"
    }
   },
   "outputs": [
    {
     "data": {
      "text/html": [
       "<div>\n",
       "<style scoped>\n",
       "    .dataframe tbody tr th:only-of-type {\n",
       "        vertical-align: middle;\n",
       "    }\n",
       "\n",
       "    .dataframe tbody tr th {\n",
       "        vertical-align: top;\n",
       "    }\n",
       "\n",
       "    .dataframe thead th {\n",
       "        text-align: right;\n",
       "    }\n",
       "</style>\n",
       "<table border=\"1\" class=\"dataframe\">\n",
       "  <thead>\n",
       "    <tr style=\"text-align: right;\">\n",
       "      <th></th>\n",
       "      <th></th>\n",
       "      <th>Name</th>\n",
       "      <th>Number</th>\n",
       "    </tr>\n",
       "    <tr>\n",
       "      <th>Color</th>\n",
       "      <th>Sex</th>\n",
       "      <th></th>\n",
       "      <th></th>\n",
       "    </tr>\n",
       "  </thead>\n",
       "  <tbody>\n",
       "    <tr>\n",
       "      <th rowspan=\"2\" valign=\"top\">blue</th>\n",
       "      <th>F</th>\n",
       "      <td>4.5</td>\n",
       "      <td>26.5</td>\n",
       "    </tr>\n",
       "    <tr>\n",
       "      <th>M</th>\n",
       "      <td>4.0</td>\n",
       "      <td>42.0</td>\n",
       "    </tr>\n",
       "  </tbody>\n",
       "</table>\n",
       "</div>"
      ],
      "text/plain": [
       "           Name  Number\n",
       "Color Sex              \n",
       "blue  F     4.5    26.5\n",
       "      M     4.0    42.0"
      ]
     },
     "execution_count": 14,
     "metadata": {},
     "output_type": "execute_result"
    }
   ],
   "source": [
    "res.loc[['blue','F'], :]"
   ]
  },
  {
   "cell_type": "code",
   "execution_count": 15,
   "metadata": {
    "ExecuteTime": {
     "end_time": "2018-01-29T01:36:32.808189Z",
     "start_time": "2018-01-29T01:36:32.798395Z"
    }
   },
   "outputs": [
    {
     "data": {
      "text/html": [
       "<div>\n",
       "<style scoped>\n",
       "    .dataframe tbody tr th:only-of-type {\n",
       "        vertical-align: middle;\n",
       "    }\n",
       "\n",
       "    .dataframe tbody tr th {\n",
       "        vertical-align: top;\n",
       "    }\n",
       "\n",
       "    .dataframe thead th {\n",
       "        text-align: right;\n",
       "    }\n",
       "</style>\n",
       "<table border=\"1\" class=\"dataframe\">\n",
       "  <thead>\n",
       "    <tr style=\"text-align: right;\">\n",
       "      <th></th>\n",
       "      <th></th>\n",
       "      <th>Name</th>\n",
       "      <th>Number</th>\n",
       "    </tr>\n",
       "    <tr>\n",
       "      <th>Color</th>\n",
       "      <th>Sex</th>\n",
       "      <th></th>\n",
       "      <th></th>\n",
       "    </tr>\n",
       "  </thead>\n",
       "  <tbody>\n",
       "    <tr>\n",
       "      <th rowspan=\"2\" valign=\"top\">green</th>\n",
       "      <th>F</th>\n",
       "      <td>6.0</td>\n",
       "      <td>7.0</td>\n",
       "    </tr>\n",
       "    <tr>\n",
       "      <th>M</th>\n",
       "      <td>4.0</td>\n",
       "      <td>8.0</td>\n",
       "    </tr>\n",
       "  </tbody>\n",
       "</table>\n",
       "</div>"
      ],
      "text/plain": [
       "           Name  Number\n",
       "Color Sex              \n",
       "green F     6.0     7.0\n",
       "      M     4.0     8.0"
      ]
     },
     "execution_count": 15,
     "metadata": {},
     "output_type": "execute_result"
    }
   ],
   "source": [
    "res.loc[['green'], :]"
   ]
  },
  {
   "cell_type": "markdown",
   "metadata": {},
   "source": [
    "In some cases we might want to leave the grouping fields as columns:"
   ]
  },
  {
   "cell_type": "code",
   "execution_count": 16,
   "metadata": {
    "ExecuteTime": {
     "end_time": "2018-01-29T01:36:32.824954Z",
     "start_time": "2018-01-29T01:36:32.809666Z"
    }
   },
   "outputs": [
    {
     "data": {
      "text/html": [
       "<div>\n",
       "<style scoped>\n",
       "    .dataframe tbody tr th:only-of-type {\n",
       "        vertical-align: middle;\n",
       "    }\n",
       "\n",
       "    .dataframe tbody tr th {\n",
       "        vertical-align: top;\n",
       "    }\n",
       "\n",
       "    .dataframe thead th {\n",
       "        text-align: right;\n",
       "    }\n",
       "</style>\n",
       "<table border=\"1\" class=\"dataframe\">\n",
       "  <thead>\n",
       "    <tr style=\"text-align: right;\">\n",
       "      <th></th>\n",
       "      <th>Color</th>\n",
       "      <th>Sex</th>\n",
       "      <th>Name</th>\n",
       "      <th>Number</th>\n",
       "    </tr>\n",
       "  </thead>\n",
       "  <tbody>\n",
       "    <tr>\n",
       "      <th>0</th>\n",
       "      <td>blue</td>\n",
       "      <td>F</td>\n",
       "      <td>Weiwei</td>\n",
       "      <td>26.5</td>\n",
       "    </tr>\n",
       "    <tr>\n",
       "      <th>1</th>\n",
       "      <td>blue</td>\n",
       "      <td>M</td>\n",
       "      <td>Joey</td>\n",
       "      <td>42.0</td>\n",
       "    </tr>\n",
       "    <tr>\n",
       "      <th>2</th>\n",
       "      <td>green</td>\n",
       "      <td>F</td>\n",
       "      <td>Karina</td>\n",
       "      <td>7.0</td>\n",
       "    </tr>\n",
       "    <tr>\n",
       "      <th>3</th>\n",
       "      <td>green</td>\n",
       "      <td>M</td>\n",
       "      <td>Joey</td>\n",
       "      <td>8.0</td>\n",
       "    </tr>\n",
       "    <tr>\n",
       "      <th>4</th>\n",
       "      <td>pink</td>\n",
       "      <td>M</td>\n",
       "      <td>Fernando</td>\n",
       "      <td>-25.5</td>\n",
       "    </tr>\n",
       "  </tbody>\n",
       "</table>\n",
       "</div>"
      ],
      "text/plain": [
       "   Color Sex      Name  Number\n",
       "0   blue   F    Weiwei    26.5\n",
       "1   blue   M      Joey    42.0\n",
       "2  green   F    Karina     7.0\n",
       "3  green   M      Joey     8.0\n",
       "4   pink   M  Fernando   -25.5"
      ]
     },
     "execution_count": 16,
     "metadata": {},
     "output_type": "execute_result"
    }
   ],
   "source": [
    "(\n",
    "    people\n",
    "        .groupby([\"Color\", \"Sex\"], as_index=False)\n",
    "        .aggregate({\"Name\": \"first\", \"Number\": np.mean})\n",
    ")"
   ]
  },
  {
   "cell_type": "markdown",
   "metadata": {},
   "source": [
    "## Pivot\n",
    "\n",
    "Pivot is used to examine aggregates with respect to two characteristics.  You might construct a pivot of sales data if you wanted to look at average sales broken down by year and market.  \n"
   ]
  },
  {
   "cell_type": "markdown",
   "metadata": {},
   "source": [
    "The pivot operation is essentially a `groupby` operation that transforms the rows *and the columns.*   For example consider the following **groupby** operation:"
   ]
  },
  {
   "cell_type": "code",
   "execution_count": 17,
   "metadata": {
    "ExecuteTime": {
     "end_time": "2018-01-29T01:36:32.834429Z",
     "start_time": "2018-01-29T01:36:32.827854Z"
    }
   },
   "outputs": [
    {
     "data": {
      "text/plain": [
       "Color  Sex\n",
       "blue   F      2\n",
       "       M      1\n",
       "green  F      1\n",
       "       M      1\n",
       "pink   M      2\n",
       "Name: Number, dtype: int64"
      ]
     },
     "execution_count": 17,
     "metadata": {},
     "output_type": "execute_result"
    }
   ],
   "source": [
    "people.groupby([\"Color\", \"Sex\"])['Number'].count()"
   ]
  },
  {
   "cell_type": "markdown",
   "metadata": {},
   "source": [
    "We can use `pivot` to compute the same result but displayed slightly differently:"
   ]
  },
  {
   "cell_type": "code",
   "execution_count": 18,
   "metadata": {
    "ExecuteTime": {
     "end_time": "2018-01-29T01:36:32.858042Z",
     "start_time": "2018-01-29T01:36:32.836499Z"
    }
   },
   "outputs": [
    {
     "data": {
      "text/html": [
       "<div>\n",
       "<style scoped>\n",
       "    .dataframe tbody tr th:only-of-type {\n",
       "        vertical-align: middle;\n",
       "    }\n",
       "\n",
       "    .dataframe tbody tr th {\n",
       "        vertical-align: top;\n",
       "    }\n",
       "\n",
       "    .dataframe thead th {\n",
       "        text-align: right;\n",
       "    }\n",
       "</style>\n",
       "<table border=\"1\" class=\"dataframe\">\n",
       "  <thead>\n",
       "    <tr style=\"text-align: right;\">\n",
       "      <th>Sex</th>\n",
       "      <th>F</th>\n",
       "      <th>M</th>\n",
       "    </tr>\n",
       "    <tr>\n",
       "      <th>Color</th>\n",
       "      <th></th>\n",
       "      <th></th>\n",
       "    </tr>\n",
       "  </thead>\n",
       "  <tbody>\n",
       "    <tr>\n",
       "      <th>blue</th>\n",
       "      <td>2.0</td>\n",
       "      <td>1.0</td>\n",
       "    </tr>\n",
       "    <tr>\n",
       "      <th>green</th>\n",
       "      <td>1.0</td>\n",
       "      <td>1.0</td>\n",
       "    </tr>\n",
       "    <tr>\n",
       "      <th>pink</th>\n",
       "      <td>NaN</td>\n",
       "      <td>2.0</td>\n",
       "    </tr>\n",
       "  </tbody>\n",
       "</table>\n",
       "</div>"
      ],
      "text/plain": [
       "Sex      F    M\n",
       "Color          \n",
       "blue   2.0  1.0\n",
       "green  1.0  1.0\n",
       "pink   NaN  2.0"
      ]
     },
     "execution_count": 18,
     "metadata": {},
     "output_type": "execute_result"
    }
   ],
   "source": [
    "people.pivot_table(\n",
    "    values  = \"Number\", # the entry to aggregate over\n",
    "    index   = \"Color\",  # the row grouping attributes\n",
    "    columns = \"Sex\",    # the column grouping attributes\n",
    "    aggfunc = \"count\"   # the aggregation function\n",
    ")"
   ]
  },
  {
   "cell_type": "markdown",
   "metadata": {},
   "source": [
    "Notice that:\n",
    "1. the second \"grouping\" column (`Sex`) has been **\"pivoted\" from the rows to column location**. \n",
    "1. there is a missing value for `pink` and `F` since none of the females chose `pink` as their favorite color.\n",
    "\n",
    "We can specify how missing values are filled in:"
   ]
  },
  {
   "cell_type": "code",
   "execution_count": 19,
   "metadata": {
    "ExecuteTime": {
     "end_time": "2018-01-29T01:36:32.882196Z",
     "start_time": "2018-01-29T01:36:32.859909Z"
    }
   },
   "outputs": [
    {
     "data": {
      "text/html": [
       "<div>\n",
       "<style scoped>\n",
       "    .dataframe tbody tr th:only-of-type {\n",
       "        vertical-align: middle;\n",
       "    }\n",
       "\n",
       "    .dataframe tbody tr th {\n",
       "        vertical-align: top;\n",
       "    }\n",
       "\n",
       "    .dataframe thead th {\n",
       "        text-align: right;\n",
       "    }\n",
       "</style>\n",
       "<table border=\"1\" class=\"dataframe\">\n",
       "  <thead>\n",
       "    <tr style=\"text-align: right;\">\n",
       "      <th>Sex</th>\n",
       "      <th>F</th>\n",
       "      <th>M</th>\n",
       "    </tr>\n",
       "    <tr>\n",
       "      <th>Color</th>\n",
       "      <th></th>\n",
       "      <th></th>\n",
       "    </tr>\n",
       "  </thead>\n",
       "  <tbody>\n",
       "    <tr>\n",
       "      <th>blue</th>\n",
       "      <td>2</td>\n",
       "      <td>1</td>\n",
       "    </tr>\n",
       "    <tr>\n",
       "      <th>green</th>\n",
       "      <td>1</td>\n",
       "      <td>1</td>\n",
       "    </tr>\n",
       "    <tr>\n",
       "      <th>pink</th>\n",
       "      <td>0</td>\n",
       "      <td>2</td>\n",
       "    </tr>\n",
       "  </tbody>\n",
       "</table>\n",
       "</div>"
      ],
      "text/plain": [
       "Sex    F  M\n",
       "Color      \n",
       "blue   2  1\n",
       "green  1  1\n",
       "pink   0  2"
      ]
     },
     "execution_count": 19,
     "metadata": {},
     "output_type": "execute_result"
    }
   ],
   "source": [
    "people.pivot_table(\n",
    "    values  = \"Number\",\n",
    "    index   = \"Color\",\n",
    "    columns = \"Sex\",\n",
    "    aggfunc = \"count\",\n",
    "    fill_value = 0.0\n",
    ")"
   ]
  },
  {
   "cell_type": "markdown",
   "metadata": {},
   "source": [
    "## Merging (joining)\n",
    "\n",
    "The **merge** operation combines data from two dataframes into one dataframe. The **merge** operation in Pandas behaves like a **join** operation in SQL (we will cover SQL joins later in the semester).  Unfortunately, Pandas also offers a `join` function which is a limited version of `merge`."
   ]
  },
  {
   "cell_type": "markdown",
   "metadata": {},
   "source": [
    "Suppose I also have a list of email addresses that I would like to combine with my `people` dataframe from above"
   ]
  },
  {
   "cell_type": "code",
   "execution_count": 20,
   "metadata": {
    "ExecuteTime": {
     "end_time": "2018-01-29T01:36:32.895192Z",
     "start_time": "2018-01-29T01:36:32.884518Z"
    }
   },
   "outputs": [
    {
     "data": {
      "text/html": [
       "<div>\n",
       "<style scoped>\n",
       "    .dataframe tbody tr th:only-of-type {\n",
       "        vertical-align: middle;\n",
       "    }\n",
       "\n",
       "    .dataframe tbody tr th {\n",
       "        vertical-align: top;\n",
       "    }\n",
       "\n",
       "    .dataframe thead th {\n",
       "        text-align: right;\n",
       "    }\n",
       "</style>\n",
       "<table border=\"1\" class=\"dataframe\">\n",
       "  <thead>\n",
       "    <tr style=\"text-align: right;\">\n",
       "      <th></th>\n",
       "      <th>User Name</th>\n",
       "      <th>Email</th>\n",
       "    </tr>\n",
       "  </thead>\n",
       "  <tbody>\n",
       "    <tr>\n",
       "      <th>0</th>\n",
       "      <td>Deb</td>\n",
       "      <td>deborah_nolan@berkeley.edu</td>\n",
       "    </tr>\n",
       "    <tr>\n",
       "      <th>1</th>\n",
       "      <td>Sam</td>\n",
       "      <td>samlau95@berkeley.edu</td>\n",
       "    </tr>\n",
       "    <tr>\n",
       "      <th>2</th>\n",
       "      <td>John</td>\n",
       "      <td>doe@nope.com</td>\n",
       "    </tr>\n",
       "    <tr>\n",
       "      <th>3</th>\n",
       "      <td>Joey</td>\n",
       "      <td>jegonzal@cs.berkeley.edu</td>\n",
       "    </tr>\n",
       "    <tr>\n",
       "      <th>4</th>\n",
       "      <td>Weiwei</td>\n",
       "      <td>weiwzhang@berkeley.edu</td>\n",
       "    </tr>\n",
       "    <tr>\n",
       "      <th>5</th>\n",
       "      <td>Weiwei</td>\n",
       "      <td>weiwzhang+123@berkeley.edu</td>\n",
       "    </tr>\n",
       "    <tr>\n",
       "      <th>6</th>\n",
       "      <td>Karina</td>\n",
       "      <td>kgoot@berkeley.edu</td>\n",
       "    </tr>\n",
       "  </tbody>\n",
       "</table>\n",
       "</div>"
      ],
      "text/plain": [
       "  User Name                       Email\n",
       "0       Deb  deborah_nolan@berkeley.edu\n",
       "1       Sam       samlau95@berkeley.edu\n",
       "2      John                doe@nope.com\n",
       "3      Joey    jegonzal@cs.berkeley.edu\n",
       "4    Weiwei      weiwzhang@berkeley.edu\n",
       "5    Weiwei  weiwzhang+123@berkeley.edu\n",
       "6    Karina          kgoot@berkeley.edu"
      ]
     },
     "execution_count": 20,
     "metadata": {},
     "output_type": "execute_result"
    }
   ],
   "source": [
    "email = pd.DataFrame(\n",
    "    [[\"Deb\",  \"deborah_nolan@berkeley.edu\"],\n",
    "     [\"Sam\",  \"samlau95@berkeley.edu\"],\n",
    "     [\"John\", \"doe@nope.com\"],\n",
    "     [\"Joey\", \"jegonzal@cs.berkeley.edu\"],\n",
    "     [\"Weiwei\", \"weiwzhang@berkeley.edu\"],\n",
    "     [\"Weiwei\", \"weiwzhang+123@berkeley.edu\"],\n",
    "     [\"Karina\", \"kgoot@berkeley.edu\"]], \n",
    "    columns = [\"User Name\", \"Email\"])\n",
    "email"
   ]
  },
  {
   "cell_type": "markdown",
   "metadata": {},
   "source": [
    "I can use the merge function to combine these two tables:"
   ]
  },
  {
   "cell_type": "code",
   "execution_count": 21,
   "metadata": {
    "ExecuteTime": {
     "end_time": "2018-01-29T01:36:32.913114Z",
     "start_time": "2018-01-29T01:36:32.897027Z"
    }
   },
   "outputs": [
    {
     "data": {
      "text/html": [
       "<div>\n",
       "<style scoped>\n",
       "    .dataframe tbody tr th:only-of-type {\n",
       "        vertical-align: middle;\n",
       "    }\n",
       "\n",
       "    .dataframe tbody tr th {\n",
       "        vertical-align: top;\n",
       "    }\n",
       "\n",
       "    .dataframe thead th {\n",
       "        text-align: right;\n",
       "    }\n",
       "</style>\n",
       "<table border=\"1\" class=\"dataframe\">\n",
       "  <thead>\n",
       "    <tr style=\"text-align: right;\">\n",
       "      <th></th>\n",
       "      <th>Name</th>\n",
       "      <th>Color</th>\n",
       "      <th>Number</th>\n",
       "      <th>Sex</th>\n",
       "      <th>User Name</th>\n",
       "      <th>Email</th>\n",
       "    </tr>\n",
       "  </thead>\n",
       "  <tbody>\n",
       "    <tr>\n",
       "      <th>0</th>\n",
       "      <td>Joey</td>\n",
       "      <td>blue</td>\n",
       "      <td>42</td>\n",
       "      <td>M</td>\n",
       "      <td>Joey</td>\n",
       "      <td>jegonzal@cs.berkeley.edu</td>\n",
       "    </tr>\n",
       "    <tr>\n",
       "      <th>1</th>\n",
       "      <td>Joey</td>\n",
       "      <td>green</td>\n",
       "      <td>8</td>\n",
       "      <td>M</td>\n",
       "      <td>Joey</td>\n",
       "      <td>jegonzal@cs.berkeley.edu</td>\n",
       "    </tr>\n",
       "    <tr>\n",
       "      <th>2</th>\n",
       "      <td>Weiwei</td>\n",
       "      <td>blue</td>\n",
       "      <td>50</td>\n",
       "      <td>F</td>\n",
       "      <td>Weiwei</td>\n",
       "      <td>weiwzhang@berkeley.edu</td>\n",
       "    </tr>\n",
       "    <tr>\n",
       "      <th>3</th>\n",
       "      <td>Weiwei</td>\n",
       "      <td>blue</td>\n",
       "      <td>50</td>\n",
       "      <td>F</td>\n",
       "      <td>Weiwei</td>\n",
       "      <td>weiwzhang+123@berkeley.edu</td>\n",
       "    </tr>\n",
       "    <tr>\n",
       "      <th>4</th>\n",
       "      <td>Karina</td>\n",
       "      <td>green</td>\n",
       "      <td>7</td>\n",
       "      <td>F</td>\n",
       "      <td>Karina</td>\n",
       "      <td>kgoot@berkeley.edu</td>\n",
       "    </tr>\n",
       "    <tr>\n",
       "      <th>5</th>\n",
       "      <td>Sam</td>\n",
       "      <td>pink</td>\n",
       "      <td>-42</td>\n",
       "      <td>M</td>\n",
       "      <td>Sam</td>\n",
       "      <td>samlau95@berkeley.edu</td>\n",
       "    </tr>\n",
       "  </tbody>\n",
       "</table>\n",
       "</div>"
      ],
      "text/plain": [
       "     Name  Color  Number Sex User Name                       Email\n",
       "0    Joey   blue      42   M      Joey    jegonzal@cs.berkeley.edu\n",
       "1    Joey  green       8   M      Joey    jegonzal@cs.berkeley.edu\n",
       "2  Weiwei   blue      50   F    Weiwei      weiwzhang@berkeley.edu\n",
       "3  Weiwei   blue      50   F    Weiwei  weiwzhang+123@berkeley.edu\n",
       "4  Karina  green       7   F    Karina          kgoot@berkeley.edu\n",
       "5     Sam   pink     -42   M       Sam       samlau95@berkeley.edu"
      ]
     },
     "execution_count": 21,
     "metadata": {},
     "output_type": "execute_result"
    }
   ],
   "source": [
    "people.merge(email, \n",
    "            how = \"inner\",\n",
    "            left_on = \"Name\", right_on = \"User Name\")"
   ]
  },
  {
   "cell_type": "markdown",
   "metadata": {},
   "source": [
    "Notice that:\n",
    "1. the output dataframe only contains rows that have names in both tables.  For example, `Fernando` didn't have an email address and `Deb` didn't have a color preference.\n",
    "1. The name `Joey` occurred twice in the people table and shows up twice in the output. \n",
    "1. The name `Weiwei` occurred twice in the email table and appears twice in the output."
   ]
  },
  {
   "cell_type": "markdown",
   "metadata": {},
   "source": [
    "### How could we fix the duplicate entries?\n",
    "\n",
    "We could group by name (or by email) and take only the first:"
   ]
  },
  {
   "cell_type": "code",
   "execution_count": 22,
   "metadata": {
    "ExecuteTime": {
     "end_time": "2018-01-29T01:36:32.942710Z",
     "start_time": "2018-01-29T01:36:32.915273Z"
    }
   },
   "outputs": [
    {
     "data": {
      "text/html": [
       "<div>\n",
       "<style scoped>\n",
       "    .dataframe tbody tr th:only-of-type {\n",
       "        vertical-align: middle;\n",
       "    }\n",
       "\n",
       "    .dataframe tbody tr th {\n",
       "        vertical-align: top;\n",
       "    }\n",
       "\n",
       "    .dataframe thead th {\n",
       "        text-align: right;\n",
       "    }\n",
       "</style>\n",
       "<table border=\"1\" class=\"dataframe\">\n",
       "  <thead>\n",
       "    <tr style=\"text-align: right;\">\n",
       "      <th></th>\n",
       "      <th>Color</th>\n",
       "      <th>Number</th>\n",
       "      <th>Sex</th>\n",
       "      <th>User Name</th>\n",
       "      <th>Email</th>\n",
       "    </tr>\n",
       "    <tr>\n",
       "      <th>Name</th>\n",
       "      <th></th>\n",
       "      <th></th>\n",
       "      <th></th>\n",
       "      <th></th>\n",
       "      <th></th>\n",
       "    </tr>\n",
       "  </thead>\n",
       "  <tbody>\n",
       "    <tr>\n",
       "      <th>Joey</th>\n",
       "      <td>blue</td>\n",
       "      <td>42</td>\n",
       "      <td>M</td>\n",
       "      <td>Joey</td>\n",
       "      <td>jegonzal@cs.berkeley.edu</td>\n",
       "    </tr>\n",
       "    <tr>\n",
       "      <th>Karina</th>\n",
       "      <td>green</td>\n",
       "      <td>7</td>\n",
       "      <td>F</td>\n",
       "      <td>Karina</td>\n",
       "      <td>kgoot@berkeley.edu</td>\n",
       "    </tr>\n",
       "    <tr>\n",
       "      <th>Sam</th>\n",
       "      <td>pink</td>\n",
       "      <td>-42</td>\n",
       "      <td>M</td>\n",
       "      <td>Sam</td>\n",
       "      <td>samlau95@berkeley.edu</td>\n",
       "    </tr>\n",
       "    <tr>\n",
       "      <th>Weiwei</th>\n",
       "      <td>blue</td>\n",
       "      <td>50</td>\n",
       "      <td>F</td>\n",
       "      <td>Weiwei</td>\n",
       "      <td>weiwzhang@berkeley.edu</td>\n",
       "    </tr>\n",
       "  </tbody>\n",
       "</table>\n",
       "</div>"
      ],
      "text/plain": [
       "        Color  Number Sex User Name                     Email\n",
       "Name                                                         \n",
       "Joey     blue      42   M      Joey  jegonzal@cs.berkeley.edu\n",
       "Karina  green       7   F    Karina        kgoot@berkeley.edu\n",
       "Sam      pink     -42   M       Sam     samlau95@berkeley.edu\n",
       "Weiwei   blue      50   F    Weiwei    weiwzhang@berkeley.edu"
      ]
     },
     "execution_count": 22,
     "metadata": {},
     "output_type": "execute_result"
    }
   ],
   "source": [
    "(\n",
    "    people\n",
    "        .merge(email, \n",
    "            how = \"inner\",\n",
    "            left_on = \"Name\", right_on = \"User Name\")\n",
    "        .groupby('Name').first()\n",
    ")"
   ]
  },
  {
   "cell_type": "markdown",
   "metadata": {},
   "source": [
    "### Left Joins\n",
    "\n",
    "The above join was an inner join.  What if we wanted to keep all of the people and leave missing in the email address field when their email addresses are not present."
   ]
  },
  {
   "cell_type": "code",
   "execution_count": 23,
   "metadata": {
    "ExecuteTime": {
     "end_time": "2018-01-29T01:36:32.958298Z",
     "start_time": "2018-01-29T01:36:32.945128Z"
    },
    "scrolled": true
   },
   "outputs": [
    {
     "data": {
      "text/html": [
       "<div>\n",
       "<style scoped>\n",
       "    .dataframe tbody tr th:only-of-type {\n",
       "        vertical-align: middle;\n",
       "    }\n",
       "\n",
       "    .dataframe tbody tr th {\n",
       "        vertical-align: top;\n",
       "    }\n",
       "\n",
       "    .dataframe thead th {\n",
       "        text-align: right;\n",
       "    }\n",
       "</style>\n",
       "<table border=\"1\" class=\"dataframe\">\n",
       "  <thead>\n",
       "    <tr style=\"text-align: right;\">\n",
       "      <th></th>\n",
       "      <th>Name</th>\n",
       "      <th>Color</th>\n",
       "      <th>Number</th>\n",
       "      <th>Sex</th>\n",
       "      <th>User Name</th>\n",
       "      <th>Email</th>\n",
       "    </tr>\n",
       "  </thead>\n",
       "  <tbody>\n",
       "    <tr>\n",
       "      <th>0</th>\n",
       "      <td>Joey</td>\n",
       "      <td>blue</td>\n",
       "      <td>42</td>\n",
       "      <td>M</td>\n",
       "      <td>Joey</td>\n",
       "      <td>jegonzal@cs.berkeley.edu</td>\n",
       "    </tr>\n",
       "    <tr>\n",
       "      <th>1</th>\n",
       "      <td>Weiwei</td>\n",
       "      <td>blue</td>\n",
       "      <td>50</td>\n",
       "      <td>F</td>\n",
       "      <td>Weiwei</td>\n",
       "      <td>weiwzhang@berkeley.edu</td>\n",
       "    </tr>\n",
       "    <tr>\n",
       "      <th>2</th>\n",
       "      <td>Weiwei</td>\n",
       "      <td>blue</td>\n",
       "      <td>50</td>\n",
       "      <td>F</td>\n",
       "      <td>Weiwei</td>\n",
       "      <td>weiwzhang+123@berkeley.edu</td>\n",
       "    </tr>\n",
       "    <tr>\n",
       "      <th>3</th>\n",
       "      <td>Joey</td>\n",
       "      <td>green</td>\n",
       "      <td>8</td>\n",
       "      <td>M</td>\n",
       "      <td>Joey</td>\n",
       "      <td>jegonzal@cs.berkeley.edu</td>\n",
       "    </tr>\n",
       "    <tr>\n",
       "      <th>4</th>\n",
       "      <td>Karina</td>\n",
       "      <td>green</td>\n",
       "      <td>7</td>\n",
       "      <td>F</td>\n",
       "      <td>Karina</td>\n",
       "      <td>kgoot@berkeley.edu</td>\n",
       "    </tr>\n",
       "    <tr>\n",
       "      <th>5</th>\n",
       "      <td>Fernando</td>\n",
       "      <td>pink</td>\n",
       "      <td>-9</td>\n",
       "      <td>M</td>\n",
       "      <td>NaN</td>\n",
       "      <td>NaN</td>\n",
       "    </tr>\n",
       "    <tr>\n",
       "      <th>6</th>\n",
       "      <td>Nhi</td>\n",
       "      <td>blue</td>\n",
       "      <td>3</td>\n",
       "      <td>F</td>\n",
       "      <td>NaN</td>\n",
       "      <td>NaN</td>\n",
       "    </tr>\n",
       "    <tr>\n",
       "      <th>7</th>\n",
       "      <td>Sam</td>\n",
       "      <td>pink</td>\n",
       "      <td>-42</td>\n",
       "      <td>M</td>\n",
       "      <td>Sam</td>\n",
       "      <td>samlau95@berkeley.edu</td>\n",
       "    </tr>\n",
       "  </tbody>\n",
       "</table>\n",
       "</div>"
      ],
      "text/plain": [
       "       Name  Color  Number Sex User Name                       Email\n",
       "0      Joey   blue      42   M      Joey    jegonzal@cs.berkeley.edu\n",
       "1    Weiwei   blue      50   F    Weiwei      weiwzhang@berkeley.edu\n",
       "2    Weiwei   blue      50   F    Weiwei  weiwzhang+123@berkeley.edu\n",
       "3      Joey  green       8   M      Joey    jegonzal@cs.berkeley.edu\n",
       "4    Karina  green       7   F    Karina          kgoot@berkeley.edu\n",
       "5  Fernando   pink      -9   M       NaN                         NaN\n",
       "6       Nhi   blue       3   F       NaN                         NaN\n",
       "7       Sam   pink     -42   M       Sam       samlau95@berkeley.edu"
      ]
     },
     "execution_count": 23,
     "metadata": {},
     "output_type": "execute_result"
    }
   ],
   "source": [
    "people.merge(email, \n",
    "            how = \"left\",\n",
    "            left_on = \"Name\", right_on = \"User Name\")"
   ]
  },
  {
   "cell_type": "markdown",
   "metadata": {},
   "source": [
    "### Right Joins"
   ]
  },
  {
   "cell_type": "code",
   "execution_count": 24,
   "metadata": {
    "ExecuteTime": {
     "end_time": "2018-01-29T01:36:32.972739Z",
     "start_time": "2018-01-29T01:36:32.960126Z"
    }
   },
   "outputs": [
    {
     "data": {
      "text/html": [
       "<div>\n",
       "<style scoped>\n",
       "    .dataframe tbody tr th:only-of-type {\n",
       "        vertical-align: middle;\n",
       "    }\n",
       "\n",
       "    .dataframe tbody tr th {\n",
       "        vertical-align: top;\n",
       "    }\n",
       "\n",
       "    .dataframe thead th {\n",
       "        text-align: right;\n",
       "    }\n",
       "</style>\n",
       "<table border=\"1\" class=\"dataframe\">\n",
       "  <thead>\n",
       "    <tr style=\"text-align: right;\">\n",
       "      <th></th>\n",
       "      <th>Name</th>\n",
       "      <th>Color</th>\n",
       "      <th>Number</th>\n",
       "      <th>Sex</th>\n",
       "      <th>User Name</th>\n",
       "      <th>Email</th>\n",
       "    </tr>\n",
       "  </thead>\n",
       "  <tbody>\n",
       "    <tr>\n",
       "      <th>0</th>\n",
       "      <td>Joey</td>\n",
       "      <td>blue</td>\n",
       "      <td>42.0</td>\n",
       "      <td>M</td>\n",
       "      <td>Joey</td>\n",
       "      <td>jegonzal@cs.berkeley.edu</td>\n",
       "    </tr>\n",
       "    <tr>\n",
       "      <th>1</th>\n",
       "      <td>Joey</td>\n",
       "      <td>green</td>\n",
       "      <td>8.0</td>\n",
       "      <td>M</td>\n",
       "      <td>Joey</td>\n",
       "      <td>jegonzal@cs.berkeley.edu</td>\n",
       "    </tr>\n",
       "    <tr>\n",
       "      <th>2</th>\n",
       "      <td>Weiwei</td>\n",
       "      <td>blue</td>\n",
       "      <td>50.0</td>\n",
       "      <td>F</td>\n",
       "      <td>Weiwei</td>\n",
       "      <td>weiwzhang@berkeley.edu</td>\n",
       "    </tr>\n",
       "    <tr>\n",
       "      <th>3</th>\n",
       "      <td>Weiwei</td>\n",
       "      <td>blue</td>\n",
       "      <td>50.0</td>\n",
       "      <td>F</td>\n",
       "      <td>Weiwei</td>\n",
       "      <td>weiwzhang+123@berkeley.edu</td>\n",
       "    </tr>\n",
       "    <tr>\n",
       "      <th>4</th>\n",
       "      <td>Karina</td>\n",
       "      <td>green</td>\n",
       "      <td>7.0</td>\n",
       "      <td>F</td>\n",
       "      <td>Karina</td>\n",
       "      <td>kgoot@berkeley.edu</td>\n",
       "    </tr>\n",
       "    <tr>\n",
       "      <th>5</th>\n",
       "      <td>Sam</td>\n",
       "      <td>pink</td>\n",
       "      <td>-42.0</td>\n",
       "      <td>M</td>\n",
       "      <td>Sam</td>\n",
       "      <td>samlau95@berkeley.edu</td>\n",
       "    </tr>\n",
       "    <tr>\n",
       "      <th>6</th>\n",
       "      <td>NaN</td>\n",
       "      <td>NaN</td>\n",
       "      <td>NaN</td>\n",
       "      <td>NaN</td>\n",
       "      <td>Deb</td>\n",
       "      <td>deborah_nolan@berkeley.edu</td>\n",
       "    </tr>\n",
       "    <tr>\n",
       "      <th>7</th>\n",
       "      <td>NaN</td>\n",
       "      <td>NaN</td>\n",
       "      <td>NaN</td>\n",
       "      <td>NaN</td>\n",
       "      <td>John</td>\n",
       "      <td>doe@nope.com</td>\n",
       "    </tr>\n",
       "  </tbody>\n",
       "</table>\n",
       "</div>"
      ],
      "text/plain": [
       "     Name  Color  Number  Sex User Name                       Email\n",
       "0    Joey   blue    42.0    M      Joey    jegonzal@cs.berkeley.edu\n",
       "1    Joey  green     8.0    M      Joey    jegonzal@cs.berkeley.edu\n",
       "2  Weiwei   blue    50.0    F    Weiwei      weiwzhang@berkeley.edu\n",
       "3  Weiwei   blue    50.0    F    Weiwei  weiwzhang+123@berkeley.edu\n",
       "4  Karina  green     7.0    F    Karina          kgoot@berkeley.edu\n",
       "5     Sam   pink   -42.0    M       Sam       samlau95@berkeley.edu\n",
       "6     NaN    NaN     NaN  NaN       Deb  deborah_nolan@berkeley.edu\n",
       "7     NaN    NaN     NaN  NaN      John                doe@nope.com"
      ]
     },
     "execution_count": 24,
     "metadata": {},
     "output_type": "execute_result"
    }
   ],
   "source": [
    "people.merge(email, \n",
    "            how = \"right\",\n",
    "            left_on = \"Name\", right_on = \"User Name\")"
   ]
  },
  {
   "cell_type": "markdown",
   "metadata": {},
   "source": [
    "### Outer Joins"
   ]
  },
  {
   "cell_type": "code",
   "execution_count": 25,
   "metadata": {
    "ExecuteTime": {
     "end_time": "2018-01-29T01:36:32.988266Z",
     "start_time": "2018-01-29T01:36:32.974323Z"
    }
   },
   "outputs": [
    {
     "data": {
      "text/html": [
       "<div>\n",
       "<style scoped>\n",
       "    .dataframe tbody tr th:only-of-type {\n",
       "        vertical-align: middle;\n",
       "    }\n",
       "\n",
       "    .dataframe tbody tr th {\n",
       "        vertical-align: top;\n",
       "    }\n",
       "\n",
       "    .dataframe thead th {\n",
       "        text-align: right;\n",
       "    }\n",
       "</style>\n",
       "<table border=\"1\" class=\"dataframe\">\n",
       "  <thead>\n",
       "    <tr style=\"text-align: right;\">\n",
       "      <th></th>\n",
       "      <th>Name</th>\n",
       "      <th>Color</th>\n",
       "      <th>Number</th>\n",
       "      <th>Sex</th>\n",
       "      <th>User Name</th>\n",
       "      <th>Email</th>\n",
       "    </tr>\n",
       "  </thead>\n",
       "  <tbody>\n",
       "    <tr>\n",
       "      <th>0</th>\n",
       "      <td>Joey</td>\n",
       "      <td>blue</td>\n",
       "      <td>42.0</td>\n",
       "      <td>M</td>\n",
       "      <td>Joey</td>\n",
       "      <td>jegonzal@cs.berkeley.edu</td>\n",
       "    </tr>\n",
       "    <tr>\n",
       "      <th>1</th>\n",
       "      <td>Joey</td>\n",
       "      <td>green</td>\n",
       "      <td>8.0</td>\n",
       "      <td>M</td>\n",
       "      <td>Joey</td>\n",
       "      <td>jegonzal@cs.berkeley.edu</td>\n",
       "    </tr>\n",
       "    <tr>\n",
       "      <th>2</th>\n",
       "      <td>Weiwei</td>\n",
       "      <td>blue</td>\n",
       "      <td>50.0</td>\n",
       "      <td>F</td>\n",
       "      <td>Weiwei</td>\n",
       "      <td>weiwzhang@berkeley.edu</td>\n",
       "    </tr>\n",
       "    <tr>\n",
       "      <th>3</th>\n",
       "      <td>Weiwei</td>\n",
       "      <td>blue</td>\n",
       "      <td>50.0</td>\n",
       "      <td>F</td>\n",
       "      <td>Weiwei</td>\n",
       "      <td>weiwzhang+123@berkeley.edu</td>\n",
       "    </tr>\n",
       "    <tr>\n",
       "      <th>4</th>\n",
       "      <td>Karina</td>\n",
       "      <td>green</td>\n",
       "      <td>7.0</td>\n",
       "      <td>F</td>\n",
       "      <td>Karina</td>\n",
       "      <td>kgoot@berkeley.edu</td>\n",
       "    </tr>\n",
       "    <tr>\n",
       "      <th>5</th>\n",
       "      <td>Fernando</td>\n",
       "      <td>pink</td>\n",
       "      <td>-9.0</td>\n",
       "      <td>M</td>\n",
       "      <td>NaN</td>\n",
       "      <td>NaN</td>\n",
       "    </tr>\n",
       "    <tr>\n",
       "      <th>6</th>\n",
       "      <td>Nhi</td>\n",
       "      <td>blue</td>\n",
       "      <td>3.0</td>\n",
       "      <td>F</td>\n",
       "      <td>NaN</td>\n",
       "      <td>NaN</td>\n",
       "    </tr>\n",
       "    <tr>\n",
       "      <th>7</th>\n",
       "      <td>Sam</td>\n",
       "      <td>pink</td>\n",
       "      <td>-42.0</td>\n",
       "      <td>M</td>\n",
       "      <td>Sam</td>\n",
       "      <td>samlau95@berkeley.edu</td>\n",
       "    </tr>\n",
       "    <tr>\n",
       "      <th>8</th>\n",
       "      <td>NaN</td>\n",
       "      <td>NaN</td>\n",
       "      <td>NaN</td>\n",
       "      <td>NaN</td>\n",
       "      <td>Deb</td>\n",
       "      <td>deborah_nolan@berkeley.edu</td>\n",
       "    </tr>\n",
       "    <tr>\n",
       "      <th>9</th>\n",
       "      <td>NaN</td>\n",
       "      <td>NaN</td>\n",
       "      <td>NaN</td>\n",
       "      <td>NaN</td>\n",
       "      <td>John</td>\n",
       "      <td>doe@nope.com</td>\n",
       "    </tr>\n",
       "  </tbody>\n",
       "</table>\n",
       "</div>"
      ],
      "text/plain": [
       "       Name  Color  Number  Sex User Name                       Email\n",
       "0      Joey   blue    42.0    M      Joey    jegonzal@cs.berkeley.edu\n",
       "1      Joey  green     8.0    M      Joey    jegonzal@cs.berkeley.edu\n",
       "2    Weiwei   blue    50.0    F    Weiwei      weiwzhang@berkeley.edu\n",
       "3    Weiwei   blue    50.0    F    Weiwei  weiwzhang+123@berkeley.edu\n",
       "4    Karina  green     7.0    F    Karina          kgoot@berkeley.edu\n",
       "5  Fernando   pink    -9.0    M       NaN                         NaN\n",
       "6       Nhi   blue     3.0    F       NaN                         NaN\n",
       "7       Sam   pink   -42.0    M       Sam       samlau95@berkeley.edu\n",
       "8       NaN    NaN     NaN  NaN       Deb  deborah_nolan@berkeley.edu\n",
       "9       NaN    NaN     NaN  NaN      John                doe@nope.com"
      ]
     },
     "execution_count": 25,
     "metadata": {},
     "output_type": "execute_result"
    }
   ],
   "source": [
    "people.merge(email, \n",
    "            how = \"outer\",\n",
    "            left_on = \"Name\", right_on = \"User Name\")"
   ]
  },
  {
   "cell_type": "code",
   "execution_count": null,
   "metadata": {},
   "outputs": [],
   "source": []
  },
  {
   "cell_type": "code",
   "execution_count": null,
   "metadata": {},
   "outputs": [],
   "source": []
  }
 ],
 "metadata": {
  "kernelspec": {
   "display_name": "Python 3",
   "language": "python",
   "name": "python3"
  },
  "language_info": {
   "codemirror_mode": {
    "name": "ipython",
    "version": 3
   },
   "file_extension": ".py",
   "mimetype": "text/x-python",
   "name": "python",
   "nbconvert_exporter": "python",
   "pygments_lexer": "ipython3",
   "version": "3.6.6"
  }
 },
 "nbformat": 4,
 "nbformat_minor": 2
}
